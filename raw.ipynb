{
 "cells": [
  {
   "cell_type": "code",
   "execution_count": null,
   "metadata": {},
   "outputs": [],
   "source": [
    "#4====================\n",
    "'''Top_states = df.groupby([\"State\"]).sum().sort_values(\"Orders\", ascending=False).head(10) \n",
    "Top_states = Top_states[[\"Orders\"]].round(2)\n",
    "Top_states.reset_index(inplace=True) \n",
    "plt.style.use('dark_background')\n",
    "fig =plt.figure(figsize=(19,7))\n",
    "plt.title(\"Top 10 state\",fontsize=18)\n",
    "plt.bar(Top_states[\"State\"],Top_states[\"Orders\"],color='#7FFFD4',edgecolor='Red',linewidth=1)\n",
    "plt.xlabel(\"State\",fontsize=19)\n",
    "plt.ylabel(\"Order\",fontsize=19)\n",
    "plt.xticks(fontsize=12, rotation=90)\n",
    "plt.yticks(fontsize=12)'''\n",
    "\n",
    "\n",
    "#2\n",
    "'''Top_occupations = df.groupby([\"Occupation\"]).sum().sort_values(\"Amount\", ascending=False).head(10)\n",
    "Top_occupations = Top_occupations[[\"Amount\"]].round(2)\n",
    "Top_occupations.reset_index(inplace=True)\n",
    "\n",
    "plt.style.use('dark_background')\n",
    "plt.figure(figsize=(19, 7))\n",
    "plt.title(\"Top 10 Occupations\", fontsize=18)\n",
    "fig=sns.barplot(x=\"Occupation\", y=\"Amount\", data=Top_occupations, palette='viridis')\n",
    "plt.xlabel(\"Occupation\", fontsize=16)\n",
    "plt.ylabel(\"Amount\", fontsize=16)\n",
    "plt.xticks(rotation=45, fontsize=12, ha='right')  # Rotating x-axis labels for better visibility\n",
    "plt.yticks(fontsize=12)\n",
    "\n",
    "st.write(fig)'''"
   ]
  },
  {
   "cell_type": "code",
   "execution_count": null,
   "metadata": {},
   "outputs": [],
   "source": [
    "'''fig=plt.figure(figsize=(10,5))\n",
    "sns.histplot(df[\"Age\"],kde= True,color=\"#CD1076\",linewidth =2)\n",
    "sns.set_style(\"dark\")'''"
   ]
  },
  {
   "cell_type": "code",
   "execution_count": null,
   "metadata": {},
   "outputs": [],
   "source": [
    "fig=plt.figure(figsize=(15,9))\n",
    "custom_palette = [\"#FF1493\", \"#00BFFF\"]\n",
    "ax=sns.barplot(x=\"Occupation\",y=\"Amount\",data =df,hue=\"Gender\", palette=custom_palette)\n",
    "sns.set_style('dark')\n",
    "ax.tick_params(axis='x', colors='white')\n",
    "ax.tick_params(axis='y', colors='white')\n",
    "st.write(fig)"
   ]
  },
  {
   "cell_type": "code",
   "execution_count": null,
   "metadata": {},
   "outputs": [],
   "source": [
    "#3-----------\n",
    "'''st.title(\"Product Sale in different zone\")\n",
    "st.write('The Barchart shows the the sale in different Zone of the state ')\n",
    "\n",
    "Top_Zone= df.groupby([\"Zone\"]).sum().sort_values(\"Amount\",ascending=False)\n",
    "Top_Zone= Top_Zone[[\"Amount\"]].astype(int)\n",
    "Top_Zone.reset_index(inplace=True)\n",
    "\n",
    "\n",
    "\n",
    "fig = plt.figure(figsize=(10,5))\n",
    "plt.title(\"Zone wise Sale\",fontsize=18,color ='white')\n",
    "plt.bar(Top_Zone[\"Zone\"],Top_Zone[\"Amount\"],color='#FF1493',edgecolor='Red',linewidth=1)\n",
    "plt.xlabel(\"Zone\",fontsize=15,color ='black')  \n",
    "plt.ylabel(\"Amount\",fontsize=15,color='black')\n",
    "plt.xticks(color='white')\n",
    "plt.yticks(color='white')'''"
   ]
  },
  {
   "cell_type": "code",
   "execution_count": null,
   "metadata": {},
   "outputs": [],
   "source": [
    "'''fig=plt.figure(figsize=(10,5))\n",
    "sns.lineplot(x=\"Occupation\",y=\"Amount\",data =df,color='red')'''"
   ]
  },
  {
   "cell_type": "code",
   "execution_count": null,
   "metadata": {},
   "outputs": [],
   "source": [
    "'''Gender_count=df.Gender.value_counts()\n",
    "Gender_count\n",
    "explode =[0,0.1]\n",
    "\n",
    "fig=plt.figure(figsize= (9,5))\n",
    "\n",
    "\n",
    "plt.pie(Gender_count.values,labels = Gender_count.index,explode=explode,autopct ='%1.1f%%',shadow =True,wedgeprops={'width':0.3},colors =['#ff9999','#66b3ff'])\n",
    "plt.show()\n",
    "st.write(fig)'''"
   ]
  }
 ],
 "metadata": {
  "language_info": {
   "name": "python"
  },
  "orig_nbformat": 4
 },
 "nbformat": 4,
 "nbformat_minor": 2
}
